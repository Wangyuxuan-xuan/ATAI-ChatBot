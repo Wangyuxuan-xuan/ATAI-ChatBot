{
 "cells": [
  {
   "cell_type": "code",
   "execution_count": 1,
   "metadata": {},
   "outputs": [
    {
     "name": "stderr",
     "output_type": "stream",
     "text": [
      "c:\\Users\\wangy\\anaconda3\\envs\\ATAIChatbot\\lib\\site-packages\\tqdm\\auto.py:21: TqdmWarning: IProgress not found. Please update jupyter and ipywidgets. See https://ipywidgets.readthedocs.io/en/stable/user_install.html\n",
      "  from .autonotebook import tqdm as notebook_tqdm\n",
      "Some weights of the model checkpoint at dslim/bert-base-NER were not used when initializing BertForTokenClassification: ['bert.pooler.dense.bias', 'bert.pooler.dense.weight']\n",
      "- This IS expected if you are initializing BertForTokenClassification from the checkpoint of a model trained on another task or with another architecture (e.g. initializing a BertForSequenceClassification model from a BertForPreTraining model).\n",
      "- This IS NOT expected if you are initializing BertForTokenClassification from the checkpoint of a model that you expect to be exactly identical (initializing a BertForSequenceClassification model from a BertForSequenceClassification model).\n"
     ]
    }
   ],
   "source": [
    "import re\n",
    "from transformers import AutoTokenizer, AutoModelForTokenClassification, pipeline\n",
    "from thefuzz import fuzz, process\n",
    "import pickle\n",
    "\n",
    "# Load the pre-trained BERT NER model from Hugging Face\n",
    "bert_base_NER = \"dslim/bert-base-NER\"\n",
    "bert_base_NER_tokenizer = AutoTokenizer.from_pretrained(bert_base_NER)\n",
    "bert_base_NER_model = AutoModelForTokenClassification.from_pretrained(bert_base_NER)\n",
    "bert_base_NER_pipeline = pipeline(\n",
    "                    \"ner\",\n",
    "                    model=bert_base_NER_model,\n",
    "                    tokenizer=bert_base_NER_tokenizer,\n",
    "                    aggregation_strategy=\"simple\",\n",
    "                    device=\"cuda\"\n",
    "                )   "
   ]
  },
  {
   "cell_type": "code",
   "execution_count": 58,
   "metadata": {},
   "outputs": [
    {
     "data": {
      "text/plain": [
       "['Denzel Washington']"
      ]
     },
     "execution_count": 58,
     "metadata": {},
     "output_type": "execute_result"
    }
   ],
   "source": [
    "def get_best_match_person(user_query: str) -> list:\n",
    "    '''\n",
    "    Extract the person name from user_query using bert_base_NER_pipeline.\n",
    "    Concatenate the result, format the result to be the exact person name,\n",
    "    and exclude unwanted characters.\n",
    "    '''\n",
    "    # Use the NER pipeline to get entities from the user query\n",
    "    ner_results = bert_base_NER_pipeline(user_query)\n",
    "    person_names = []\n",
    "    current_name = ''\n",
    "    for entity in ner_results:\n",
    "        if entity['entity_group'] == 'PER':\n",
    "            # Use the 'word' attribute to get the entity text\n",
    "            word = entity['word']\n",
    "            # Remove any leading/trailing punctuation and whitespace\n",
    "            word = word.strip('.,!? ')\n",
    "            # Check if the word starts with '##', indicating a continuation\n",
    "            if word.startswith('##'):\n",
    "                # Remove '##' and concatenate without space\n",
    "                word = word[2:]\n",
    "                current_name += word\n",
    "            else:\n",
    "                # If there's an existing name, append it to the list\n",
    "                if current_name:\n",
    "                    person_names.append(current_name.strip())\n",
    "                # Start a new name\n",
    "                current_name = word\n",
    "        else:\n",
    "            # If we reach a non-PER entity, append the current name if it exists\n",
    "            if current_name:\n",
    "                person_names.append(current_name.strip())\n",
    "                current_name = ''\n",
    "    # Append any remaining name after the loop\n",
    "    if current_name:\n",
    "        person_names.append(current_name.strip())\n",
    "    # Replace multiple spaces with a single space in each name\n",
    "    person_names = [re.sub(r'\\s+', ' ', name) for name in person_names]\n",
    "    # Remove duplicates and return the list\n",
    "    person_names = list(set(person_names))\n",
    "    return person_names\n",
    "\n",
    "user_query = \"What does Denzel Washington look like?\"\n",
    "get_best_match_person(user_query)"
   ]
  },
  {
   "cell_type": "code",
   "execution_count": 59,
   "metadata": {},
   "outputs": [
    {
     "name": "stdout",
     "output_type": "stream",
     "text": [
      "['Halle Berry']\n",
      "['Denzel Washington']\n",
      "['Sandra Bullock']\n"
     ]
    }
   ],
   "source": [
    "user_query = \"Show me a picture of Halle Berry.\"\n",
    "print(get_best_match_person(user_query))\n",
    "user_query = \"What does Denzel Washington look like?\"\n",
    "print(get_best_match_person(user_query))\n",
    "user_query = \"Let me know what Sandra Bullock looks like.\"\n",
    "print(get_best_match_person(user_query))\n"
   ]
  },
  {
   "cell_type": "code",
   "execution_count": 6,
   "metadata": {},
   "outputs": [
    {
     "data": {
      "text/plain": [
       "['Interstellar']"
      ]
     },
     "execution_count": 6,
     "metadata": {},
     "output_type": "execute_result"
    }
   ],
   "source": [
    "def get_best_match_MISC(user_query: str) -> list:\n",
    "    '''\n",
    "    Extract the person name from user_query using bert_base_NER_pipeline.\n",
    "    Concatenate the result, format the result to be the exact person name,\n",
    "    and exclude unwanted characters.\n",
    "    '''\n",
    "    # Use the NER pipeline to get entities from the user query\n",
    "    ner_results = bert_base_NER_pipeline(user_query)\n",
    "    person_names = []\n",
    "    current_name = ''\n",
    "    for entity in ner_results:\n",
    "        if entity['entity_group'] == 'MISC' or entity['entity_group'] == 'ORG':\n",
    "            # Use the 'word' attribute to get the entity text\n",
    "            word = entity['word']\n",
    "            # Remove any leading/trailing punctuation and whitespace\n",
    "            word = word.strip('.,!? ')\n",
    "            # Check if the word starts with '##', indicating a continuation\n",
    "            if word.startswith('##'):\n",
    "                # Remove '##' and concatenate without space\n",
    "                word = word[2:]\n",
    "                current_name += word\n",
    "            else:\n",
    "                # If there's an existing name, append it to the list\n",
    "                if current_name:\n",
    "                    person_names.append(current_name.strip())\n",
    "                # Start a new name\n",
    "                current_name = word\n",
    "        else:\n",
    "            # If we reach a non-PER entity, append the current name if it exists\n",
    "            if current_name:\n",
    "                person_names.append(current_name.strip())\n",
    "                current_name = ''\n",
    "    # Append any remaining name after the loop\n",
    "    if current_name:\n",
    "        person_names.append(current_name.strip())\n",
    "    # Replace multiple spaces with a single space in each name\n",
    "    person_names = [re.sub(r'\\s+', ' ', name) for name in person_names]\n",
    "    # Remove duplicates and return the list\n",
    "    person_names = list(set(person_names))\n",
    "    return person_names\n",
    "\n",
    "user_query = \"Show me Interstellar\"\n",
    "get_best_match_MISC(user_query)"
   ]
  }
 ],
 "metadata": {
  "kernelspec": {
   "display_name": "ATAIChatbot",
   "language": "python",
   "name": "python3"
  },
  "language_info": {
   "codemirror_mode": {
    "name": "ipython",
    "version": 3
   },
   "file_extension": ".py",
   "mimetype": "text/x-python",
   "name": "python",
   "nbconvert_exporter": "python",
   "pygments_lexer": "ipython3",
   "version": "3.10.15"
  }
 },
 "nbformat": 4,
 "nbformat_minor": 2
}
