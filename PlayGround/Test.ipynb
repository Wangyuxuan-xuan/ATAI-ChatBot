{
 "cells": [
  {
   "cell_type": "code",
   "execution_count": null,
   "metadata": {},
   "outputs": [],
   "source": [
    "import rdflib\n",
    "\n",
    "query_reult = [\n",
    "    {rdflib.term.Variable('movie'): rdflib.term.URIRef('http://www.wikidata.org/entity/Q1139696'), rdflib.term.Variable('object'): rdflib.term.URIRef('http://www.wikidata.org/entity/Q7889'), rdflib.term.Variable('predicateLabel'): rdflib.term.Literal('instance of', lang='en'), rdflib.term.Variable('objectLabel'): rdflib.term.Literal('video game', lang='en'), rdflib.term.Variable('movieLabel'): rdflib.term.Literal('The Godfather', lang='en')}, {rdflib.term.Variable('movie'): rdflib.term.URIRef('http://www.wikidata.org/entity/Q1139696'), rdflib.term.Variable('object'): rdflib.term.Literal('2006-03-21', datatype=rdflib.term.URIRef('http://www.w3.org/2001/XMLSchema#date')), rdflib.term.Variable('predicateLabel'): rdflib.term.Literal('publication date', lang='en'), rdflib.term.Variable('movieLabel'): rdflib.term.Literal('The Godfather', lang='en')}, {rdflib.term.Variable('movie'): rdflib.term.URIRef('http://www.wikidata.org/entity/Q243556'), rdflib.term.Variable('object'): rdflib.term.URIRef('http://www.wikidata.org/entity/Q7725634'), rdflib.term.Variable('predicateLabel'): rdflib.term.Literal('instance of', lang='en'), rdflib.term.Variable('objectLabel'): rdflib.term.Literal('literary work', lang='en'), rdflib.term.Variable('movieLabel'): rdflib.term.Literal('The Godfather', lang='en')}, {rdflib.term.Variable('movie'): rdflib.term.URIRef('http://www.wikidata.org/entity/Q243556'), rdflib.term.Variable('object'): rdflib.term.Literal('1969-03-10', datatype=rdflib.term.URIRef('http://www.w3.org/2001/XMLSchema#date')), rdflib.term.Variable('predicateLabel'): rdflib.term.Literal('publication date', lang='en'), rdflib.term.Variable('movieLabel'): rdflib.term.Literal('The Godfather', lang='en')}, {rdflib.term.Variable('movie'): rdflib.term.URIRef('http://www.wikidata.org/entity/Q47703'), rdflib.term.Variable('object'): rdflib.term.URIRef('http://www.wikidata.org/entity/Q102427'), rdflib.term.Variable('predicateLabel'): rdflib.term.Literal('award received', lang='en'), rdflib.term.Variable('objectLabel'): rdflib.term.Literal('Academy Award for Best Picture', lang='en'), rdflib.term.Variable('movieLabel'): rdflib.term.Literal('The Godfather', lang='en')}, {rdflib.term.Variable('movie'): rdflib.term.URIRef('http://www.wikidata.org/entity/Q47703'), rdflib.term.Variable('object'): rdflib.term.URIRef('http://www.wikidata.org/entity/Q103916'), rdflib.term.Variable('predicateLabel'): rdflib.term.Literal('award received', lang='en'), rdflib.term.Variable('objectLabel'): rdflib.term.Literal('Academy Award for Best Actor', lang='en'), rdflib.term.Variable('movieLabel'): rdflib.term.Literal('The Godfather', lang='en')}, {rdflib.term.Variable('movie'): rdflib.term.URIRef('http://www.wikidata.org/entity/Q47703'), rdflib.term.Variable('object'): rdflib.term.URIRef('http://www.wikidata.org/entity/Q107258'), rdflib.term.Variable('predicateLabel'): rdflib.term.Literal('award received', lang='en'), rdflib.term.Variable('objectLabel'): rdflib.term.Literal('Academy Award for Best Writing, Adapted Screenplay', lang='en'), rdflib.term.Variable('movieLabel'): rdflib.term.Literal('The Godfather', lang='en')}, {rdflib.term.Variable('movie'): rdflib.term.URIRef('http://www.wikidata.org/entity/Q47703'), rdflib.term.Variable('object'): rdflib.term.URIRef('http://www.wikidata.org/entity/Q823422'), rdflib.term.Variable('predicateLabel'): rdflib.term.Literal('award received', lang='en'), rdflib.term.Variable('objectLabel'): rdflib.term.Literal('National Film Registry', lang='en'), rdflib.term.Variable('movieLabel'): rdflib.term.Literal('The Godfather', lang='en')}, {rdflib.term.Variable('movie'): rdflib.term.URIRef('http://www.wikidata.org/entity/Q47703'), rdflib.term.Variable('object'): rdflib.term.URIRef('http://www.wikidata.org/entity/Q159846'), rdflib.term.Variable('predicateLabel'): rdflib.term.Literal('production company', lang='en'), rdflib.term.Variable('objectLabel'): rdflib.term.Literal('Paramount Pictures', lang='en'), rdflib.term.Variable('movieLabel'): rdflib.term.Literal('The Godfather', lang='en')}, {rdflib.term.Variable('movie'): rdflib.term.URIRef('http://www.wikidata.org/entity/Q47703'), rdflib.term.Variable('object'): rdflib.term.URIRef('http://www.wikidata.org/entity/Q17305146'), rdflib.term.Variable('predicateLabel'): rdflib.term.Literal('production company', lang='en'), rdflib.term.Variable('objectLabel'): rdflib.term.Literal('Alfran Productions', lang='en'), rdflib.term.Variable('movieLabel'): rdflib.term.Literal('The Godfather', lang='en')}, {rdflib.term.Variable('movie'): rdflib.term.URIRef('http://www.wikidata.org/entity/Q47703'), rdflib.term.Variable('object'): rdflib.term.URIRef('http://www.wikidata.org/entity/Q11424'), rdflib.term.Variable('predicateLabel'): rdflib.term.Literal('instance of', lang='en'), rdflib.term.Variable('objectLabel'): rdflib.term.Literal('film', lang='en'), rdflib.term.Variable('movieLabel'): rdflib.term.Literal('The Godfather', lang='en')}, {rdflib.term.Variable('movie'): rdflib.term.URIRef('http://www.wikidata.org/entity/Q47703'), rdflib.term.Variable('object'): rdflib.term.URIRef('http://www.wikidata.org/entity/Q1860'), rdflib.term.Variable('predicateLabel'): rdflib.term.Literal('original language of film or TV show', lang='en'), rdflib.term.Variable('objectLabel'): rdflib.term.Literal('English', lang='en'), rdflib.term.Variable('movieLabel'): rdflib.term.Literal('The Godfather', lang='en')}, {rdflib.term.Variable('movie'): rdflib.term.URIRef('http://www.wikidata.org/entity/Q47703'), rdflib.term.Variable('object'): rdflib.term.URIRef('http://www.wikidata.org/entity/Q652'), rdflib.term.Variable('predicateLabel'): rdflib.term.Literal('original language of film or TV show', lang='en'), rdflib.term.Variable('objectLabel'): rdflib.term.Literal('Italian', lang='en'), rdflib.term.Variable('movieLabel'): rdflib.term.Literal('The Godfather', lang='en')}, {rdflib.term.Variable('movie'): rdflib.term.URIRef('http://www.wikidata.org/entity/Q47703'), rdflib.term.Variable('object'): rdflib.term.URIRef('http://www.wikidata.org/entity/Q56094'), rdflib.term.Variable('predicateLabel'): rdflib.term.Literal('director', lang='en'), rdflib.term.Variable('objectLabel'): rdflib.term.Literal('Francis Ford Coppola', lang='en'), rdflib.term.Variable('movieLabel'): rdflib.term.Literal('The Godfather', lang='en')}, {rdflib.term.Variable('movie'): rdflib.term.URIRef('http://www.wikidata.org/entity/Q47703'), rdflib.term.Variable('object'): rdflib.term.Literal('1972-03-15', datatype=rdflib.term.URIRef('http://www.w3.org/2001/XMLSchema#date')), rdflib.term.Variable('predicateLabel'): rdflib.term.Literal('publication date', lang='en'), rdflib.term.Variable('movieLabel'): rdflib.term.Literal('The Godfather', lang='en')}, {rdflib.term.Variable('movie'): rdflib.term.URIRef('http://www.wikidata.org/entity/Q47703'), rdflib.term.Variable('object'): rdflib.term.URIRef('http://www.wikidata.org/entity/Q182870'), rdflib.term.Variable('predicateLabel'): rdflib.term.Literal('screenwriter', lang='en'), rdflib.term.Variable('objectLabel'): rdflib.term.Literal('Mario Puzo', lang='en'), rdflib.term.Variable('movieLabel'): rdflib.term.Literal('The Godfather', lang='en')}, {rdflib.term.Variable('movie'): rdflib.term.URIRef('http://www.wikidata.org/entity/Q47703'), rdflib.term.Variable('object'): rdflib.term.URIRef('http://www.wikidata.org/entity/Q56094'), rdflib.term.Variable('predicateLabel'): rdflib.term.Literal('screenwriter', lang='en'), rdflib.term.Variable('objectLabel'): rdflib.term.Literal('Francis Ford Coppola', lang='en'), rdflib.term.Variable('movieLabel'): rdflib.term.Literal('The Godfather', lang='en')}]\n",
    "\n",
    "\n"
   ]
  },
  {
   "cell_type": "code",
   "execution_count": null,
   "metadata": {},
   "outputs": [],
   "source": [
    "\n",
    "import pickle\n",
    "\n",
    "with open(\"../Dataset/MovieTitles\", 'rb') as f:\n",
    "        movie_titles = pickle.load(f)\n",
    "        movie_title_set = set(movie_titles)"
   ]
  },
  {
   "cell_type": "code",
   "execution_count": null,
   "metadata": {},
   "outputs": [],
   "source": [
    "from rapidfuzz import process\n",
    "\n",
    "def find_best_movie_match(ner_movie):\n",
    "\n",
    "    extractResult = process.extract(ner_movie, movie_title_set)\n",
    "    oneRes = process.extractOne(ner_movie, movie_title_set)\n",
    "\n",
    "    best_match, score, position = process.extractOne(ner_movie, movie_title_set)\n",
    "    # tuple containing the best matching movie title and a score\n",
    "    if score > 80:  # Adjust the threshold as needed\n",
    "        return best_match\n",
    "    return None\n",
    "\n",
    "best_match = find_best_movie_match(\"inception\")\n",
    "best_match"
   ]
  }
 ],
 "metadata": {
  "kernelspec": {
   "display_name": "ATAIChatbot",
   "language": "python",
   "name": "python3"
  },
  "language_info": {
   "codemirror_mode": {
    "name": "ipython",
    "version": 3
   },
   "file_extension": ".py",
   "mimetype": "text/x-python",
   "name": "python",
   "nbconvert_exporter": "python",
   "pygments_lexer": "ipython3",
   "version": "3.12.7"
  }
 },
 "nbformat": 4,
 "nbformat_minor": 2
}
