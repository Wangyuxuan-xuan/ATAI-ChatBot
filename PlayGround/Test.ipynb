{
 "cells": [
  {
   "cell_type": "code",
   "execution_count": null,
   "metadata": {},
   "outputs": [],
   "source": [
    "import rdflib\n",
    "\n",
    "query_reult = [\n",
    "    {rdflib.term.Variable('movie'): rdflib.term.URIRef('http://www.wikidata.org/entity/Q1139696'), rdflib.term.Variable('object'): rdflib.term.URIRef('http://www.wikidata.org/entity/Q7889'), rdflib.term.Variable('predicateLabel'): rdflib.term.Literal('instance of', lang='en'), rdflib.term.Variable('objectLabel'): rdflib.term.Literal('video game', lang='en'), rdflib.term.Variable('movieLabel'): rdflib.term.Literal('The Godfather', lang='en')}, {rdflib.term.Variable('movie'): rdflib.term.URIRef('http://www.wikidata.org/entity/Q1139696'), rdflib.term.Variable('object'): rdflib.term.Literal('2006-03-21', datatype=rdflib.term.URIRef('http://www.w3.org/2001/XMLSchema#date')), rdflib.term.Variable('predicateLabel'): rdflib.term.Literal('publication date', lang='en'), rdflib.term.Variable('movieLabel'): rdflib.term.Literal('The Godfather', lang='en')}, {rdflib.term.Variable('movie'): rdflib.term.URIRef('http://www.wikidata.org/entity/Q243556'), rdflib.term.Variable('object'): rdflib.term.URIRef('http://www.wikidata.org/entity/Q7725634'), rdflib.term.Variable('predicateLabel'): rdflib.term.Literal('instance of', lang='en'), rdflib.term.Variable('objectLabel'): rdflib.term.Literal('literary work', lang='en'), rdflib.term.Variable('movieLabel'): rdflib.term.Literal('The Godfather', lang='en')}, {rdflib.term.Variable('movie'): rdflib.term.URIRef('http://www.wikidata.org/entity/Q243556'), rdflib.term.Variable('object'): rdflib.term.Literal('1969-03-10', datatype=rdflib.term.URIRef('http://www.w3.org/2001/XMLSchema#date')), rdflib.term.Variable('predicateLabel'): rdflib.term.Literal('publication date', lang='en'), rdflib.term.Variable('movieLabel'): rdflib.term.Literal('The Godfather', lang='en')}, {rdflib.term.Variable('movie'): rdflib.term.URIRef('http://www.wikidata.org/entity/Q47703'), rdflib.term.Variable('object'): rdflib.term.URIRef('http://www.wikidata.org/entity/Q102427'), rdflib.term.Variable('predicateLabel'): rdflib.term.Literal('award received', lang='en'), rdflib.term.Variable('objectLabel'): rdflib.term.Literal('Academy Award for Best Picture', lang='en'), rdflib.term.Variable('movieLabel'): rdflib.term.Literal('The Godfather', lang='en')}, {rdflib.term.Variable('movie'): rdflib.term.URIRef('http://www.wikidata.org/entity/Q47703'), rdflib.term.Variable('object'): rdflib.term.URIRef('http://www.wikidata.org/entity/Q103916'), rdflib.term.Variable('predicateLabel'): rdflib.term.Literal('award received', lang='en'), rdflib.term.Variable('objectLabel'): rdflib.term.Literal('Academy Award for Best Actor', lang='en'), rdflib.term.Variable('movieLabel'): rdflib.term.Literal('The Godfather', lang='en')}, {rdflib.term.Variable('movie'): rdflib.term.URIRef('http://www.wikidata.org/entity/Q47703'), rdflib.term.Variable('object'): rdflib.term.URIRef('http://www.wikidata.org/entity/Q107258'), rdflib.term.Variable('predicateLabel'): rdflib.term.Literal('award received', lang='en'), rdflib.term.Variable('objectLabel'): rdflib.term.Literal('Academy Award for Best Writing, Adapted Screenplay', lang='en'), rdflib.term.Variable('movieLabel'): rdflib.term.Literal('The Godfather', lang='en')}, {rdflib.term.Variable('movie'): rdflib.term.URIRef('http://www.wikidata.org/entity/Q47703'), rdflib.term.Variable('object'): rdflib.term.URIRef('http://www.wikidata.org/entity/Q823422'), rdflib.term.Variable('predicateLabel'): rdflib.term.Literal('award received', lang='en'), rdflib.term.Variable('objectLabel'): rdflib.term.Literal('National Film Registry', lang='en'), rdflib.term.Variable('movieLabel'): rdflib.term.Literal('The Godfather', lang='en')}, {rdflib.term.Variable('movie'): rdflib.term.URIRef('http://www.wikidata.org/entity/Q47703'), rdflib.term.Variable('object'): rdflib.term.URIRef('http://www.wikidata.org/entity/Q159846'), rdflib.term.Variable('predicateLabel'): rdflib.term.Literal('production company', lang='en'), rdflib.term.Variable('objectLabel'): rdflib.term.Literal('Paramount Pictures', lang='en'), rdflib.term.Variable('movieLabel'): rdflib.term.Literal('The Godfather', lang='en')}, {rdflib.term.Variable('movie'): rdflib.term.URIRef('http://www.wikidata.org/entity/Q47703'), rdflib.term.Variable('object'): rdflib.term.URIRef('http://www.wikidata.org/entity/Q17305146'), rdflib.term.Variable('predicateLabel'): rdflib.term.Literal('production company', lang='en'), rdflib.term.Variable('objectLabel'): rdflib.term.Literal('Alfran Productions', lang='en'), rdflib.term.Variable('movieLabel'): rdflib.term.Literal('The Godfather', lang='en')}, {rdflib.term.Variable('movie'): rdflib.term.URIRef('http://www.wikidata.org/entity/Q47703'), rdflib.term.Variable('object'): rdflib.term.URIRef('http://www.wikidata.org/entity/Q11424'), rdflib.term.Variable('predicateLabel'): rdflib.term.Literal('instance of', lang='en'), rdflib.term.Variable('objectLabel'): rdflib.term.Literal('film', lang='en'), rdflib.term.Variable('movieLabel'): rdflib.term.Literal('The Godfather', lang='en')}, {rdflib.term.Variable('movie'): rdflib.term.URIRef('http://www.wikidata.org/entity/Q47703'), rdflib.term.Variable('object'): rdflib.term.URIRef('http://www.wikidata.org/entity/Q1860'), rdflib.term.Variable('predicateLabel'): rdflib.term.Literal('original language of film or TV show', lang='en'), rdflib.term.Variable('objectLabel'): rdflib.term.Literal('English', lang='en'), rdflib.term.Variable('movieLabel'): rdflib.term.Literal('The Godfather', lang='en')}, {rdflib.term.Variable('movie'): rdflib.term.URIRef('http://www.wikidata.org/entity/Q47703'), rdflib.term.Variable('object'): rdflib.term.URIRef('http://www.wikidata.org/entity/Q652'), rdflib.term.Variable('predicateLabel'): rdflib.term.Literal('original language of film or TV show', lang='en'), rdflib.term.Variable('objectLabel'): rdflib.term.Literal('Italian', lang='en'), rdflib.term.Variable('movieLabel'): rdflib.term.Literal('The Godfather', lang='en')}, {rdflib.term.Variable('movie'): rdflib.term.URIRef('http://www.wikidata.org/entity/Q47703'), rdflib.term.Variable('object'): rdflib.term.URIRef('http://www.wikidata.org/entity/Q56094'), rdflib.term.Variable('predicateLabel'): rdflib.term.Literal('director', lang='en'), rdflib.term.Variable('objectLabel'): rdflib.term.Literal('Francis Ford Coppola', lang='en'), rdflib.term.Variable('movieLabel'): rdflib.term.Literal('The Godfather', lang='en')}, {rdflib.term.Variable('movie'): rdflib.term.URIRef('http://www.wikidata.org/entity/Q47703'), rdflib.term.Variable('object'): rdflib.term.Literal('1972-03-15', datatype=rdflib.term.URIRef('http://www.w3.org/2001/XMLSchema#date')), rdflib.term.Variable('predicateLabel'): rdflib.term.Literal('publication date', lang='en'), rdflib.term.Variable('movieLabel'): rdflib.term.Literal('The Godfather', lang='en')}, {rdflib.term.Variable('movie'): rdflib.term.URIRef('http://www.wikidata.org/entity/Q47703'), rdflib.term.Variable('object'): rdflib.term.URIRef('http://www.wikidata.org/entity/Q182870'), rdflib.term.Variable('predicateLabel'): rdflib.term.Literal('screenwriter', lang='en'), rdflib.term.Variable('objectLabel'): rdflib.term.Literal('Mario Puzo', lang='en'), rdflib.term.Variable('movieLabel'): rdflib.term.Literal('The Godfather', lang='en')}, {rdflib.term.Variable('movie'): rdflib.term.URIRef('http://www.wikidata.org/entity/Q47703'), rdflib.term.Variable('object'): rdflib.term.URIRef('http://www.wikidata.org/entity/Q56094'), rdflib.term.Variable('predicateLabel'): rdflib.term.Literal('screenwriter', lang='en'), rdflib.term.Variable('objectLabel'): rdflib.term.Literal('Francis Ford Coppola', lang='en'), rdflib.term.Variable('movieLabel'): rdflib.term.Literal('The Godfather', lang='en')}]\n",
    "\n",
    "\n"
   ]
  },
  {
   "cell_type": "code",
   "execution_count": null,
   "metadata": {},
   "outputs": [],
   "source": [
    "\n",
    "import pickle\n",
    "\n",
    "with open(\"../Dataset/MovieTitles\", 'rb') as f:\n",
    "        movie_titles = pickle.load(f)\n",
    "        movie_title_set = set(movie_titles)"
   ]
  },
  {
   "cell_type": "code",
   "execution_count": null,
   "metadata": {},
   "outputs": [],
   "source": [
    "from thefuzz import fuzz, process\n",
    "\n",
    "def find_best_movie_match(ner_movie, movie_title_set):\n",
    "    # Use process.extractOne to get the best match using thefuzz\n",
    "    best_match, score = process.extractOne(ner_movie, movie_title_set, scorer=fuzz.ratio)\n",
    "\n",
    "    print(\"best_match\")\n",
    "    print(f\"{best_match} , {score}\")\n",
    "\n",
    "    # If no confident match was found, attempt secondary matching strategy\n",
    "    # Try extracting the top 3 matches to see if a more suitable candidate exists\n",
    "    extract_results = process.extract(ner_movie, movie_title_set, scorer=fuzz.ratio, limit=3)\n",
    "    print(\"second match\")\n",
    "    for match, score in extract_results:\n",
    "        \n",
    "        print(f\"{match}, {score}\")\n",
    "\n",
    "    return None\n",
    "\n",
    "# Example usage\n",
    "\n",
    "best_match = find_best_movie_match(\"The Masked Gang:\", movie_title_set)\n",
    "print(best_match)\n"
   ]
  },
  {
   "cell_type": "code",
   "execution_count": null,
   "metadata": {},
   "outputs": [],
   "source": [
    "s1 = \"Star Wars: Episode VI – Return of the Jedi\"\n",
    "input = \"Who is the director of Star Wars: Episode VI - Return of the Jedi?\"\n",
    "\n",
    "# Function to remove non-alphanumeric characters efficiently\n",
    "def remove_non_alphanumeric(text):\n",
    "    return ''.join(filter(str.isalnum, text))\n",
    "\n",
    "# Remove non-alphanumeric characters from both strings\n",
    "s1_cleaned = remove_non_alphanumeric(s1)\n",
    "input_cleaned = remove_non_alphanumeric(input)\n",
    "\n",
    "# Compare the cleaned strings\n",
    "print(s1_cleaned in input_cleaned)  # Should return True if it's a valid substring"
   ]
  }
 ],
 "metadata": {
  "kernelspec": {
   "display_name": "ATAIChatbot",
   "language": "python",
   "name": "python3"
  },
  "language_info": {
   "codemirror_mode": {
    "name": "ipython",
    "version": 3
   },
   "file_extension": ".py",
   "mimetype": "text/x-python",
   "name": "python",
   "nbconvert_exporter": "python",
   "pygments_lexer": "ipython3",
   "version": "3.12.7"
  }
 },
 "nbformat": 4,
 "nbformat_minor": 2
}
